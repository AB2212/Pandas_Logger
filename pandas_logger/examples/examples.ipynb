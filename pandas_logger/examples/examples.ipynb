{
 "cells": [
  {
   "cell_type": "markdown",
   "metadata": {},
   "source": [
    "# Pandas-Logger"
   ]
  },
  {
   "cell_type": "markdown",
   "metadata": {},
   "source": [
    "Enables logging of dataframe and series methods"
   ]
  },
  {
   "cell_type": "markdown",
   "metadata": {},
   "source": [
    "### Example"
   ]
  },
  {
   "cell_type": "code",
   "execution_count": 1,
   "metadata": {},
   "outputs": [
    {
     "name": "stderr",
     "output_type": "stream",
     "text": [
      "PDLogger: 2022-01-22 19:43:40,027 - Enable Logging\n",
      "PDLogger: 2022-01-22 19:43:40,033 - Calling drop_duplicates\n",
      "PDLogger: 2022-01-22 19:43:40,035 - Provided Arguments: {}\n",
      "PDLogger: 2022-01-22 19:43:40,036 - Initial shape: (3, 2)\n",
      "PDLogger: 2022-01-22 19:43:40,038 - Final shape: (3, 2)\n",
      "PDLogger: 2022-01-22 19:43:40,039 - Calling drop_duplicates\n",
      "PDLogger: 2022-01-22 19:43:40,041 - Provided Arguments: {'subset': 'b'}\n",
      "PDLogger: 2022-01-22 19:43:40,042 - Initial shape: (3, 2)\n",
      "PDLogger: 2022-01-22 19:43:40,045 - Final shape: (3, 2)\n",
      "PDLogger: 2022-01-22 19:43:40,046 - Calling sort_values\n",
      "PDLogger: 2022-01-22 19:43:40,047 - Provided Arguments: {'by': 'a', 'inplace': True}\n",
      "PDLogger: 2022-01-22 19:43:40,048 - Initial shape: (3, 2)\n",
      "PDLogger: 2022-01-22 19:43:40,050 - Final shape: (3, 2)\n",
      "PDLogger: 2022-01-22 19:43:40,051 - Calling dropna\n",
      "PDLogger: 2022-01-22 19:43:40,052 - Provided Arguments: {'inplace': True}\n",
      "PDLogger: 2022-01-22 19:43:40,053 - Initial shape: (3, 2)\n",
      "PDLogger: 2022-01-22 19:43:40,063 - Final shape: (2, 2)\n",
      "PDLogger: 2022-01-22 19:43:40,068 - Modified dataframe: \n",
      "    a   b\n",
      "1  3   4\n",
      "0  5  -2\n",
      "PDLogger: 2022-01-22 19:43:40,070 - Disable Logging\n",
      "PDLogger: 2022-01-22 19:43:40,084 - Modified dataframe: \n",
      "   a   b\n",
      "1  3   4\n",
      "0  5  -2\n"
     ]
    }
   ],
   "source": [
    "import os\n",
    "os.chdir(\"../..\")\n",
    "import pandas as pd\n",
    "from pandas_logger import pdlogger  \n",
    "\n",
    "import logging\n",
    "\n",
    "logging.basicConfig(format=\"PDLogger: %(asctime)s - %(message)s\", level=logging.INFO)\n",
    "logger = logging.getLogger(__name__)\n",
    "\n",
    "def random_operations(df):\n",
    "    df = df.drop_duplicates()\n",
    "    df = df.drop_duplicates(subset=\"b\")\n",
    "    df.sort_values(\"a\", inplace=True)\n",
    "    df.dropna(inplace=True)\n",
    "    return df\n",
    "\n",
    "logger.info(\"Enable Logging\")\n",
    "pdlogger.enable_logging(logger=logger)\n",
    "df = pd.DataFrame([[5, -2], [3, 4], [3, pd.NA]], columns=[\"a\", \"b\"])\n",
    "df_modified = random_operations(df.copy())\n",
    "logger.info(f'Modified dataframe: \\n {df_modified}')\n",
    "logger.info(\"Disable Logging\")\n",
    "pdlogger.disable_logging()\n",
    "df_modified = random_operations(df.copy())\n",
    "logger.info(f'Modified dataframe: \\n{df_modified}')"
   ]
  }
 ],
 "metadata": {
  "interpreter": {
   "hash": "f80e4ad877d147288d6a0232dc67f959dd1eebc3a7a9a511d90915880cebcace"
  },
  "kernelspec": {
   "display_name": "Python 3.8.5 64-bit ('scraper': conda)",
   "language": "python",
   "name": "python3"
  },
  "language_info": {
   "codemirror_mode": {
    "name": "ipython",
    "version": 3
   },
   "file_extension": ".py",
   "mimetype": "text/x-python",
   "name": "python",
   "nbconvert_exporter": "python",
   "pygments_lexer": "ipython3",
   "version": "3.8.5"
  },
  "orig_nbformat": 4
 },
 "nbformat": 4,
 "nbformat_minor": 2
}
